{
 "cells": [
  {
   "cell_type": "markdown",
   "metadata": {
    "vscode": {
     "languageId": "plaintext"
    }
   },
   "source": [
    "Notebook này sẽ triển khai Python đơn giản của mô hình ReAct cho LLMs, với mong muốn cho phép nó truy cập các tool, có thể thực hiện gọi API, chạy code, ... nói chung là phá vỡ các ràng buộc của môi trường (environment) ban đầu.\n",
    "\n",
    "<p style=\"text-align: center;\">\n",
    "  <img src=\"https://react-lm.github.io/files/diagram.png\" width=\"700\" height=\"auto\" />\n",
    "</p>\n",
    "\n",
    "\n",
    "Mô hình ReAct (Reason + Act) được mô tả trong [ReAct Paper](https://react-lm.github.io/). Đây là một mô hình mà triển khai các action (hành động) bổ sung mà một LLM có thể thực hiện - ví dụ như tìm kiếm trên internet (wikipedia) hoặc thực hiện tính toán - và sau đó dạy nó cách request thực hiện những action đó, rồi đưa kết quả của chúng trở lại LLM.\n",
    "\n",
    "<p style=\"text-align: center;\">\n",
    "  <img src=\"https://substackcdn.com/image/fetch/w_1456,c_limit,f_auto,q_auto:good,fl_progressive:steep/https%3A%2F%2Fsubstack-post-media.s3.amazonaws.com%2Fpublic%2Fimages%2F6b27a8a7-8f67-4558-a3f4-44bf512e6c92_1766x812.gif\" width=\"700\" height=\"auto\" />\n",
    "</p>\n",
    "\n",
    "\n",
    "Giờ mình sẽ thực hiện một số chức năng, action đơn giản như : \n",
    "\n",
    "- wikipedia: <từ khóa tìm kiếm> - tìm kiếm trên Wikipedia và trả về đoạn trích của kết quả đầu tiên\n",
    "- calculate: <biểu thức> - đánh giá biểu thức bằng cách sử dụng hàm eval() của Python (lưu ý: hàm eval() sẽ nguy hiểm nếu sử dụng với chuỗi không đáng tin cậy)\n",
    "- search_advanced: <từ khóa tìm kiếm> - tìm kiếm trên Google sử dụng API của Tavily\n",
    "\n",
    "Lưu ý : Trong notebook này mình sẽ sử dụng API của Gemini chat completion vì nó đang hỗ trợ miễn phí, đã được hỗ trợ tưởng thích với thư viện OpenAI, nhưng nếu bạn muốn sử dụng mô hình của OpenAI, bạn có thể thay thế bằng API của OpenAI và bỏ qua `base_url` (mình sẽ chú thích ở dưới)."
   ]
  },
  {
   "cell_type": "code",
   "execution_count": 1,
   "metadata": {},
   "outputs": [],
   "source": [
    "from openai import OpenAI\n",
    "import re\n",
    "import httpx\n",
    "import os\n",
    "from tavily import TavilyClient # tavily_search hỗ trợ tìm kiếm thông tin từ các trang web khá mạnh, https://pypi.org/project/tavily-python/"
   ]
  },
  {
   "cell_type": "code",
   "execution_count": 6,
   "metadata": {},
   "outputs": [
    {
     "name": "stdout",
     "output_type": "stream",
     "text": [
      "{'query': 'Leo Messi là ai?', 'follow_up_questions': None, 'answer': \"Lionel Messi is a professional Argentine footballer who plays as a forward for Major League Soccer club Inter Miami CF and the Argentina national team. He has won the Ballon d'Or a record eight times and was named FIFA's Best Player of the Year in 2023. In 2023, he also won the World Cup with Argentina and the Ligue 1 title with Paris Saint-Germain.\", 'images': [], 'results': [{'title': 'Lionel Messi - Wikipedia', 'url': 'https://en.wikipedia.org/wiki/Lionel_Messi', 'content': \"Messi began the 2011–12 season winning both the Spanish and European Super Cups trophies.[91][92] At the close of the year, he won the FIFA Club World Cup and earned the Golden Ball for a second time.[93] For his efforts in 2011, he received the FIFA Ballon d'Or, becoming only the fourth player in history to win the Ballon d'Or three times,[94] and the inaugural UEFA Best Player in Europe Award.[95] During the year 2012, Messi became the second player to be top scorer in four Champions League campaigns.[96][97] Messi became the top goalscorer in Barcelona's history at 24 years old, overtaking the 57-year record of César Rodríguez's 232 goals with a hat-trick against Granada.[98] He finished the season as league top scorer in Spain and Europe for a second time, with 50 goals, a La Liga record, while his 73 goals in all competitions made him the single-season top scorer in the history of European club football excluding regional and local competitions.[99][100] The team would also win the Copa del Rey that season, their 14th trophy under Guardiola, who resigned following the season after a four-year cycle of success.[101]\", 'score': 0.53925073, 'raw_content': None}, {'title': 'Lionel Messi - Wikipedia tiếng Việt', 'url': 'https://vi.wikipedia.org/wiki/Lionel_Messi', 'content': 'Câu lạc bộ Major League Soccer Inter Miami đã công bố việc chiêu mộ Messi theo bản hợp đồng có thời hạn hai năm rưỡi vào ngày 15 tháng 7 năm 2023.[168][169] Messi ra mắt Inter Miami trong trận đấu tại Leagues Cup gặp Cruz Azul, nơi anh ghi bàn thắng quyết định bằng một quả đá phạt ở phút bù giờ, mang về chiến thắng cho câu lạc bộ.[170] Trong sáu trận đầu tiên khoác áo Inter Miami, Messi ghi được 9 bàn thắng cũng như dẫn dắt đội bóng giành danh hiệu đầu tiên trong lịch sử với chức vô địch Leagues Cup sau khi đánh bại Nashville SC.[171] Messi có trận ra mắt tại MLS trong cuộc đối đầu với New York Red Bulls.[172] Tuy nhiên, Miami đã không thể giành vé vào vòng play-off, kết thúc mùa giải ở vị trí thứ 14 tại Liên đoàn phía Đông, sau khi trải qua chuỗi 7 trận liên tiếp không thắng cuối mùa.[173] Vào ngày 30 tháng 10 năm 2023, sau chức vô địch World Cup cùng Argentina và danh hiệu Ligue 1 với PSG, Messi đã giành Quả bóng vàng thứ tám\\xa0– một kỷ lục chưa từng có.[174] Anh còn được tạp chí Time vinh danh là Vận động viên của năm, trở thành cầu thủ bóng đá đầu tiên trong lịch sử được vinh dự này.[175]', 'score': 0.46993434, 'raw_content': None}], 'response_time': 1.63}\n"
     ]
    }
   ],
   "source": [
    "tavily_client = TavilyClient()\n",
    "response = tavily_client.search(\"Leo Messi là ai?\",max_results=2,include_answer=True)\n",
    "print(response)"
   ]
  },
  {
   "cell_type": "code",
   "execution_count": 15,
   "metadata": {},
   "outputs": [
    {
     "name": "stdout",
     "output_type": "stream",
     "text": [
      "{\u001b[37m\u001b[39;49;00m\n",
      "\u001b[37m    \u001b[39;49;00m\u001b[94m\"query\"\u001b[39;49;00m:\u001b[37m \u001b[39;49;00m\u001b[33m\"Leo Messi l\\u00e0 ai?\"\u001b[39;49;00m,\u001b[37m\u001b[39;49;00m\n",
      "\u001b[37m    \u001b[39;49;00m\u001b[94m\"follow_up_questions\"\u001b[39;49;00m:\u001b[37m \u001b[39;49;00m\u001b[34mnull\u001b[39;49;00m,\u001b[37m\u001b[39;49;00m\n",
      "\u001b[37m    \u001b[39;49;00m\u001b[94m\"answer\"\u001b[39;49;00m:\u001b[37m \u001b[39;49;00m\u001b[33m\"Lionel Messi is a professional Argentine footballer who plays as a forward for Major League Soccer club Inter Miami CF and the Argentina national team. He has won the Ballon d'Or a record eight times and was named FIFA's Best Player of the Year in 2023. In 2023, he also won the World Cup with Argentina and the Ligue 1 title with Paris Saint-Germain.\"\u001b[39;49;00m,\u001b[37m\u001b[39;49;00m\n",
      "\u001b[37m    \u001b[39;49;00m\u001b[94m\"images\"\u001b[39;49;00m:\u001b[37m \u001b[39;49;00m[],\u001b[37m\u001b[39;49;00m\n",
      "\u001b[37m    \u001b[39;49;00m\u001b[94m\"results\"\u001b[39;49;00m:\u001b[37m \u001b[39;49;00m[\u001b[37m\u001b[39;49;00m\n",
      "\u001b[37m        \u001b[39;49;00m{\u001b[37m\u001b[39;49;00m\n",
      "\u001b[37m            \u001b[39;49;00m\u001b[94m\"title\"\u001b[39;49;00m:\u001b[37m \u001b[39;49;00m\u001b[33m\"Lionel Messi - Wikipedia\"\u001b[39;49;00m,\u001b[37m\u001b[39;49;00m\n",
      "\u001b[37m            \u001b[39;49;00m\u001b[94m\"url\"\u001b[39;49;00m:\u001b[37m \u001b[39;49;00m\u001b[33m\"https://en.wikipedia.org/wiki/Lionel_Messi\"\u001b[39;49;00m,\u001b[37m\u001b[39;49;00m\n",
      "\u001b[37m            \u001b[39;49;00m\u001b[94m\"content\"\u001b[39;49;00m:\u001b[37m \u001b[39;49;00m\u001b[33m\"Messi began the 2011\\u201312 season winning both the Spanish and European Super Cups trophies.[91][92] At the close of the year, he won the FIFA Club World Cup and earned the Golden Ball for a second time.[93] For his efforts in 2011, he received the FIFA Ballon d'Or, becoming only the fourth player in history to win the Ballon d'Or three times,[94] and the inaugural UEFA Best Player in Europe Award.[95] During the year 2012, Messi became the second player to be top scorer in four Champions League campaigns.[96][97] Messi became the top goalscorer in Barcelona's history at 24 years old, overtaking the 57-year record of C\\u00e9sar Rodr\\u00edguez's 232 goals with a hat-trick against Granada.[98] He finished the season as league top scorer in Spain and Europe for a second time, with 50 goals, a La Liga record, while his 73 goals in all competitions made him the single-season top scorer in the history of European club football excluding regional and local competitions.[99][100] The team would also win the Copa del Rey that season, their 14th trophy under Guardiola, who resigned following the season after a four-year cycle of success.[101]\"\u001b[39;49;00m,\u001b[37m\u001b[39;49;00m\n",
      "\u001b[37m            \u001b[39;49;00m\u001b[94m\"score\"\u001b[39;49;00m:\u001b[37m \u001b[39;49;00m\u001b[34m0.53925073\u001b[39;49;00m,\u001b[37m\u001b[39;49;00m\n",
      "\u001b[37m            \u001b[39;49;00m\u001b[94m\"raw_content\"\u001b[39;49;00m:\u001b[37m \u001b[39;49;00m\u001b[34mnull\u001b[39;49;00m\u001b[37m\u001b[39;49;00m\n",
      "\u001b[37m        \u001b[39;49;00m},\u001b[37m\u001b[39;49;00m\n",
      "\u001b[37m        \u001b[39;49;00m{\u001b[37m\u001b[39;49;00m\n",
      "\u001b[37m            \u001b[39;49;00m\u001b[94m\"title\"\u001b[39;49;00m:\u001b[37m \u001b[39;49;00m\u001b[33m\"Lionel Messi - Wikipedia ti\\u1ebfng Vi\\u1ec7t\"\u001b[39;49;00m,\u001b[37m\u001b[39;49;00m\n",
      "\u001b[37m            \u001b[39;49;00m\u001b[94m\"url\"\u001b[39;49;00m:\u001b[37m \u001b[39;49;00m\u001b[33m\"https://vi.wikipedia.org/wiki/Lionel_Messi\"\u001b[39;49;00m,\u001b[37m\u001b[39;49;00m\n",
      "\u001b[37m            \u001b[39;49;00m\u001b[94m\"content\"\u001b[39;49;00m:\u001b[37m \u001b[39;49;00m\u001b[33m\"C\\u00e2u l\\u1ea1c b\\u1ed9 Major League Soccer Inter Miami \\u0111\\u00e3 c\\u00f4ng b\\u1ed1 vi\\u1ec7c chi\\u00eau m\\u1ed9 Messi theo b\\u1ea3n h\\u1ee3p \\u0111\\u1ed3ng c\\u00f3 th\\u1eddi h\\u1ea1n hai n\\u0103m r\\u01b0\\u1ee1i v\\u00e0o ng\\u00e0y 15 th\\u00e1ng 7 n\\u0103m 2023.[168][169] Messi ra m\\u1eaft Inter Miami trong tr\\u1eadn \\u0111\\u1ea5u t\\u1ea1i Leagues Cup g\\u1eb7p Cruz Azul, n\\u01a1i anh ghi b\\u00e0n th\\u1eafng quy\\u1ebft \\u0111\\u1ecbnh b\\u1eb1ng m\\u1ed9t qu\\u1ea3 \\u0111\\u00e1 ph\\u1ea1t \\u1edf ph\\u00fat b\\u00f9 gi\\u1edd, mang v\\u1ec1 chi\\u1ebfn th\\u1eafng cho c\\u00e2u l\\u1ea1c b\\u1ed9.[170] Trong s\\u00e1u tr\\u1eadn \\u0111\\u1ea7u ti\\u00ean kho\\u00e1c \\u00e1o Inter Miami, Messi ghi \\u0111\\u01b0\\u1ee3c 9 b\\u00e0n th\\u1eafng c\\u0169ng nh\\u01b0 d\\u1eabn d\\u1eaft \\u0111\\u1ed9i b\\u00f3ng gi\\u00e0nh danh hi\\u1ec7u \\u0111\\u1ea7u ti\\u00ean trong l\\u1ecbch s\\u1eed v\\u1edbi ch\\u1ee9c v\\u00f4 \\u0111\\u1ecbch Leagues Cup sau khi \\u0111\\u00e1nh b\\u1ea1i Nashville SC.[171] Messi c\\u00f3 tr\\u1eadn ra m\\u1eaft t\\u1ea1i MLS trong cu\\u1ed9c \\u0111\\u1ed1i \\u0111\\u1ea7u v\\u1edbi New York Red Bulls.[172] Tuy nhi\\u00ean, Miami \\u0111\\u00e3 kh\\u00f4ng th\\u1ec3 gi\\u00e0nh v\\u00e9 v\\u00e0o v\\u00f2ng play-off, k\\u1ebft th\\u00fac m\\u00f9a gi\\u1ea3i \\u1edf v\\u1ecb tr\\u00ed th\\u1ee9 14 t\\u1ea1i Li\\u00ean \\u0111o\\u00e0n ph\\u00eda \\u0110\\u00f4ng, sau khi tr\\u1ea3i qua chu\\u1ed7i 7 tr\\u1eadn li\\u00ean ti\\u1ebfp kh\\u00f4ng th\\u1eafng cu\\u1ed1i m\\u00f9a.[173] V\\u00e0o ng\\u00e0y 30 th\\u00e1ng 10 n\\u0103m 2023, sau ch\\u1ee9c v\\u00f4 \\u0111\\u1ecbch World Cup c\\u00f9ng Argentina v\\u00e0 danh hi\\u1ec7u Ligue 1 v\\u1edbi PSG, Messi \\u0111\\u00e3 gi\\u00e0nh Qu\\u1ea3 b\\u00f3ng v\\u00e0ng th\\u1ee9 t\\u00e1m\\u00a0\\u2013 m\\u1ed9t k\\u1ef7 l\\u1ee5c ch\\u01b0a t\\u1eebng c\\u00f3.[174] Anh c\\u00f2n \\u0111\\u01b0\\u1ee3c t\\u1ea1p ch\\u00ed Time vinh danh l\\u00e0 V\\u1eadn \\u0111\\u1ed9ng vi\\u00ean c\\u1ee7a n\\u0103m, tr\\u1edf th\\u00e0nh c\\u1ea7u th\\u1ee7 b\\u00f3ng \\u0111\\u00e1 \\u0111\\u1ea7u ti\\u00ean trong l\\u1ecbch s\\u1eed \\u0111\\u01b0\\u1ee3c vinh d\\u1ef1 n\\u00e0y.[175]\"\u001b[39;49;00m,\u001b[37m\u001b[39;49;00m\n",
      "\u001b[37m            \u001b[39;49;00m\u001b[94m\"score\"\u001b[39;49;00m:\u001b[37m \u001b[39;49;00m\u001b[34m0.46993434\u001b[39;49;00m,\u001b[37m\u001b[39;49;00m\n",
      "\u001b[37m            \u001b[39;49;00m\u001b[94m\"raw_content\"\u001b[39;49;00m:\u001b[37m \u001b[39;49;00m\u001b[34mnull\u001b[39;49;00m\u001b[37m\u001b[39;49;00m\n",
      "\u001b[37m        \u001b[39;49;00m}\u001b[37m\u001b[39;49;00m\n",
      "\u001b[37m    \u001b[39;49;00m],\u001b[37m\u001b[39;49;00m\n",
      "\u001b[37m    \u001b[39;49;00m\u001b[94m\"response_time\"\u001b[39;49;00m:\u001b[37m \u001b[39;49;00m\u001b[34m1.63\u001b[39;49;00m\u001b[37m\u001b[39;49;00m\n",
      "}\u001b[37m\u001b[39;49;00m\n",
      "\n"
     ]
    }
   ],
   "source": [
    "import json\n",
    "from pygments import highlight, lexers, formatters\n",
    "\n",
    "\n",
    "# pretty print JSON with syntax highlighting\n",
    "formatted_json = json.dumps(response, indent=4)\n",
    "colorful_json = highlight(formatted_json,\n",
    "                          lexers.JsonLexer(),\n",
    "                          formatters.TerminalFormatter())\n",
    "\n",
    "print(colorful_json)\n"
   ]
  },
  {
   "cell_type": "code",
   "execution_count": 7,
   "metadata": {},
   "outputs": [
    {
     "data": {
      "text/plain": [
       "\"Lionel Messi is a professional Argentine footballer who plays as a forward for Major League Soccer club Inter Miami CF and the Argentina national team. He has won the Ballon d'Or a record eight times and was named FIFA's Best Player of the Year in 2023. In 2023, he also won the World Cup with Argentina and the Ligue 1 title with Paris Saint-Germain.\""
      ]
     },
     "execution_count": 7,
     "metadata": {},
     "output_type": "execute_result"
    }
   ],
   "source": [
    "response['answer']"
   ]
  },
  {
   "cell_type": "code",
   "execution_count": 21,
   "metadata": {},
   "outputs": [],
   "source": [
    "API_KEY = os.getenv(\"GOOGLE_API_KEY\") # nếu bạn sử dụng OPENAI API thì thay bằng OPENAI_API_KEY\n",
    "BASE_URL = \"https://generativelanguage.googleapis.com/v1beta/openai/\" # Nếu bạn sử dụng OPENAI API thì có thể để None\n",
    "MODEL = \"gemini-2.0-flash\" # Nếu bạn sử dụng OPENAI API thì thay bằng tên model của bạn"
   ]
  },
  {
   "cell_type": "code",
   "execution_count": 22,
   "metadata": {},
   "outputs": [],
   "source": [
    "client = OpenAI(\n",
    "  api_key=API_KEY,\n",
    "  base_url=BASE_URL,\n",
    ")"
   ]
  },
  {
   "cell_type": "code",
   "execution_count": 33,
   "metadata": {},
   "outputs": [],
   "source": [
    "class ChatBot_ReAct:\n",
    "    def __init__(self, system: str = \"\", messages: list = []):\n",
    "        self.system = system\n",
    "        self.messages = messages\n",
    "        if self.system:\n",
    "            self.messages.append({\"role\": \"system\", \"content\": system})\n",
    "    \n",
    "    def __call__(self, message: str) -> str:\n",
    "        self.messages.append({\"role\": \"user\", \"content\": message})\n",
    "        result = self.execute()\n",
    "        self.messages.append({\"role\": \"assistant\", \"content\": result})\n",
    "        return result, self.messages\n",
    "    \n",
    "    def execute(self) -> str:\n",
    "        completion = client.chat.completions.create(model=MODEL, messages=self.messages, temperature = 0.0)\n",
    "        return completion.choices[0].message.content"
   ]
  },
  {
   "cell_type": "code",
   "execution_count": 34,
   "metadata": {},
   "outputs": [],
   "source": [
    "prompt = \"\"\"\n",
    "You run in a loop of Thought, Action, PAUSE, Observation.\n",
    "At the end of the loop you output an Answer\n",
    "Use Thought to describe your thoughts about the question you have been asked.\n",
    "Use Action to run one of the actions available to you - then return PAUSE.\n",
    "Observation will be the result of running those actions.\n",
    "\n",
    "You will final answer in the language of the user, for example the user asks Vietnamese, you must answer in Vietnamese\n",
    "\n",
    "Your available actions are:\n",
    "\n",
    "calculate:\n",
    "e.g. calculate: 4 * 7 / 3\n",
    "Runs a calculation and returns the number - uses Python so be sure to use floating point syntax if necessary\n",
    "\n",
    "wikipedia:\n",
    "e.g. wikipedia: Django\n",
    "Returns a summary from searching Wikipedia\n",
    "\n",
    "search_advanced:\n",
    "e.g. search_advanced: New news update about Messi\n",
    "Returns a summary from searching Internet, using Tavily, a powerful search engine that can search information from many websites\n",
    "\n",
    "Always look for everything on Wikipedia if you have the opportunity to do so. If difficult, use search_advanced\n",
    "\n",
    "Example session:\n",
    "\n",
    "Question: What is the capital of France?\n",
    "Thought: I should look up France on Wikipedia\n",
    "Action: wikipedia: France\n",
    "PAUSE\n",
    "\n",
    "You will be called again with this:\n",
    "\n",
    "Observation: France is a country. The capital is Paris.\n",
    "\n",
    "You then output:\n",
    "\n",
    "Answer: The capital of France is Paris.\n",
    "\"\"\".strip()"
   ]
  },
  {
   "cell_type": "code",
   "execution_count": 35,
   "metadata": {},
   "outputs": [],
   "source": [
    "def wikipedia(q):\n",
    "    content_en = httpx.get(\"https://en.wikipedia.org/w/api.php\", params={\n",
    "        \"action\": \"query\",\n",
    "        \"list\": \"search\",\n",
    "        \"srsearch\": q,\n",
    "        \"format\": \"json\"\n",
    "    }).json()[\"query\"][\"search\"][0][\"snippet\"]\n",
    "\n",
    "    content_vi = httpx.get(\"https://vi.wikipedia.org/w/api.php\", params={\n",
    "        \"action\": \"query\",\n",
    "        \"list\": \"search\",\n",
    "        \"srsearch\": q,\n",
    "        \"format\": \"json\"\n",
    "    }).json()[\"query\"][\"search\"][0][\"snippet\"]\n",
    "    \n",
    "    return content_en+\"\\n\"+content_vi\n",
    "\n",
    "def calculate(what):\n",
    "    return eval(what)\n",
    "\n",
    "def search_advanced(query):\n",
    "    response = tavily_client.search(query,max_results=1, exclude_domains=[\"wikipedia.org\"], include_answer = True) # exclude_domains để loại bỏ các trang web không cần thiết\n",
    "    # return str({key: value for key, value in response['results'][0].items() if key not in ['score', 'raw_content']})\n",
    "    return response['answer']\n",
    "\n",
    "known_actions = {\n",
    "    \"wikipedia\": wikipedia,\n",
    "    \"calculate\": calculate,\n",
    "    \"search_advanced\": search_advanced,\n",
    "}"
   ]
  },
  {
   "cell_type": "code",
   "execution_count": 36,
   "metadata": {},
   "outputs": [],
   "source": [
    "action_re = re.compile('^Action: (\\w+): (.*)$')\n",
    "\n",
    "def query(question: str,history: list = None)-> list:\n",
    "    max_turns = 5\n",
    "    if history is None:\n",
    "        history = []\n",
    "\n",
    "    i = 0\n",
    "    bot = ChatBot_ReAct(prompt,history)\n",
    "    next_prompt = question\n",
    "    while i < max_turns:\n",
    "        i += 1\n",
    "        result, messages = bot(next_prompt)\n",
    "        print(result)\n",
    "        actions = [action_re.match(a) for a in result.split('\\n') if action_re.match(a)]\n",
    "        if actions:\n",
    "            # There is an action to run\n",
    "            action, action_input = actions[0].groups()\n",
    "            if action not in known_actions:\n",
    "                raise Exception(\"Unknown action: {}: {}\".format(action, action_input))\n",
    "            print(\" -- running {} {}\".format(action, action_input))\n",
    "            observation = known_actions[action](action_input)\n",
    "            print(\"Observation:\", observation)\n",
    "            next_prompt = \"Observation: {}\".format(observation)\n",
    "        else:\n",
    "            print(\"Answer:\", result)\n",
    "            try :\n",
    "                return result.split(\"Answer: \")[1].strip()\n",
    "            except:\n",
    "                return result"
   ]
  },
  {
   "cell_type": "code",
   "execution_count": 37,
   "metadata": {},
   "outputs": [
    {
     "name": "stdout",
     "output_type": "stream",
     "text": [
      "Thought: The user greeted me. I should respond in a friendly manner.\n",
      "Action: None\n",
      "PAUSE\n",
      "Observation: None\n",
      "Answer: Hello! How can I help you today?\n",
      "\n",
      "Answer: Thought: The user greeted me. I should respond in a friendly manner.\n",
      "Action: None\n",
      "PAUSE\n",
      "Observation: None\n",
      "Answer: Hello! How can I help you today?\n",
      "\n"
     ]
    },
    {
     "data": {
      "text/plain": [
       "'Hello! How can I help you today?'"
      ]
     },
     "execution_count": 37,
     "metadata": {},
     "output_type": "execute_result"
    }
   ],
   "source": [
    "query(\"Hello\")"
   ]
  },
  {
   "cell_type": "code",
   "execution_count": 47,
   "metadata": {},
   "outputs": [
    {
     "name": "stdout",
     "output_type": "stream",
     "text": [
      "Thought: Tôi nên tìm kiếm thông tin về Việt Nam trên Wikipedia để tìm thủ đô.\n",
      "Action: wikipedia: Việt Nam\n",
      "PAUSE\n",
      "\n",
      " -- running wikipedia Việt Nam\n",
      "Observation: 699 square kilometres. <span class=\"searchmatch\">Vietnamese</span>: <span class=\"searchmatch\">Việt</span> <span class=\"searchmatch\">Nam</span> [vîət <span class=\"searchmatch\">nāːm</span>] The spelling &quot;<span class=\"searchmatch\">Viet</span> <span class=\"searchmatch\">Nam</span>&quot; or the full marked-<span class=\"searchmatch\">Vietnamese</span> form &quot;<span class=\"searchmatch\">Việt</span> <span class=\"searchmatch\">Nam</span>&quot; is sometimes used in English\n",
      "<span class=\"searchmatch\">Việt</span> <span class=\"searchmatch\">Nam</span>, quốc hiệu là Cộng hòa xã hội chủ nghĩa <span class=\"searchmatch\">Việt</span> <span class=\"searchmatch\">Nam</span>, là một quốc gia nằm ở cực Đông của bán đảo Đông Dương thuộc khu vực Đông <span class=\"searchmatch\">Nam</span> Á, giáp với Lào\n",
      "Thought: Kết quả tìm kiếm trên Wikipedia không trực tiếp cho biết thủ đô của Việt Nam. Tôi sẽ sử dụng tìm kiếm nâng cao để tìm thông tin này.\n",
      "Action: search_advanced: Thủ đô của Việt Nam\n",
      "PAUSE\n",
      "\n",
      " -- running search_advanced Thủ đô của Việt Nam\n",
      "Observation: {'title': 'Thủ đô Việt Nam - Wikiwand', 'url': 'https://www.wikiwand.com/vi/articles/Thủ_đô_Việt_Nam', 'content': 'Cố đô của Việt Nam. Cố đô là cách gọi tôn vinh những nơi từng là thủ đô chính thống trong lịch sử Việt Nam.Hiện ở Việt Nam có các nơi sau được gọi là cố đô gồm: đất tổ Phong Châu, cố đô Hoa Lư, cố đô Huế; với sự nhìn nhận và đánh giá lại về vương triều nhà Hồ, Thanh Hóa cũng được xem là'}\n",
      "Thought: Kết quả tìm kiếm vẫn chưa cung cấp thông tin trực tiếp về thủ đô hiện tại của Việt Nam. Tôi sẽ thử một lần nữa với một truy vấn cụ thể hơn.\n",
      "Action: search_advanced: Thủ đô hiện tại của Việt Nam\n",
      "PAUSE\n",
      "\n",
      " -- running search_advanced Thủ đô hiện tại của Việt Nam\n",
      "Observation: {'title': 'Thủ đô Việt Nam - Wikiwand', 'url': 'https://www.wikiwand.com/vi/articles/Thủ_đô_Việt_Nam', 'content': 'Sau đây là danh sách các kinh đô/thủ đô – hiểu theo nghĩa rộng – là các trung tâm chính trị của chính thể nhà nước trong lịch sử Việt Nam, và cả của các vương quốc cổ/cựu quốc gia từng tồn tại trên lãnh thổ Việt Nam ngày nay. Hiện nay Việt Nam có 5 tỉnh, thành được gọi là các \"vùng kinh đô\" gồm: Hà Nội, Phú Thọ, Ninh Bình, Thanh Hóa và Thừa Thiên Huế.[1] 5 vùng kinh đô này được ngành văn hóa cho phép tổ chức và tham gia nhiều sự kiện lớn như: cuộc thi người đẹp các vùng kinh đô, hiệp hội văn học nghệ thuật các vùng kinh đô, triển lãm ảnh ngũ đại cố đô của Việt Nam, Hành trình di sản thế giới...'}\n",
      "Thought: Các kết quả tìm kiếm vẫn chưa cung cấp câu trả lời trực tiếp. Tôi sẽ thử tìm kiếm trên Wikipedia một lần nữa, nhưng lần này tập trung vào Hà Nội.\n",
      "Action: wikipedia: Hà Nội\n",
      "PAUSE\n",
      "\n",
      " -- running wikipedia Hà Nội\n",
      "Observation: thành phố <span class=\"searchmatch\">Hà</span> <span class=\"searchmatch\">Nội</span> (<span class=\"searchmatch\">Ha</span> <span class=\"searchmatch\">Noi</span> Statistics Office) (2023). Niên giám thống kê thành phố <span class=\"searchmatch\">Hà</span> <span class=\"searchmatch\">Nội</span> 2022 (<span class=\"searchmatch\">Ha</span> <span class=\"searchmatch\">Noi</span> Statistical Yearbook 2022) (PDF). <span class=\"searchmatch\">Hà</span> <span class=\"searchmatch\">Nội</span>: Nhà xuất\n",
      "<span class=\"searchmatch\">Hà</span> <span class=\"searchmatch\">Nội</span> là thủ đô của nước Cộng hòa xã hội chủ nghĩa Việt Nam. Đây là thành phố trực thuộc trung ương lớn thứ hai về quy mô dân số, được xếp loại đô thị\n",
      "Answer: Thủ đô của nước Việt Nam là Hà Nội.\n",
      "\n",
      "Answer: Answer: Thủ đô của nước Việt Nam là Hà Nội.\n",
      "\n"
     ]
    }
   ],
   "source": [
    "q1 = query(\"Thủ đô của nước Việt Nam là gì\")"
   ]
  },
  {
   "cell_type": "code",
   "execution_count": 49,
   "metadata": {},
   "outputs": [],
   "source": [
    "# q2 = query(\"chi tiết thủ đô đó\", history=q1)"
   ]
  },
  {
   "cell_type": "code",
   "execution_count": 12,
   "metadata": {},
   "outputs": [],
   "source": [
    "# query(\"tôi có 10 quả táo, tôi cho bạn 3 quả, tôi còn bao nhiêu quả táo?\")"
   ]
  },
  {
   "cell_type": "code",
   "execution_count": 19,
   "metadata": {},
   "outputs": [],
   "source": [
    "import gradio as gr"
   ]
  },
  {
   "cell_type": "code",
   "execution_count": 45,
   "metadata": {},
   "outputs": [
    {
     "name": "stderr",
     "output_type": "stream",
     "text": [
      "c:\\Users\\Admin\\AppData\\Local\\Programs\\Python\\Python310\\lib\\site-packages\\gradio\\chat_interface.py:334: UserWarning: The 'tuples' format for chatbot messages is deprecated and will be removed in a future version of Gradio. Please set type='messages' instead, which uses openai-style 'role' and 'content' keys.\n",
      "  self.chatbot = Chatbot(\n"
     ]
    },
    {
     "name": "stdout",
     "output_type": "stream",
     "text": [
      "* Running on local URL:  http://127.0.0.1:7870\n",
      "\n",
      "To create a public link, set `share=True` in `launch()`.\n"
     ]
    },
    {
     "data": {
      "text/html": [
       "<div><iframe src=\"http://127.0.0.1:7870/\" width=\"100%\" height=\"500\" allow=\"autoplay; camera; microphone; clipboard-read; clipboard-write;\" frameborder=\"0\" allowfullscreen></iframe></div>"
      ],
      "text/plain": [
       "<IPython.core.display.HTML object>"
      ]
     },
     "metadata": {},
     "output_type": "display_data"
    },
    {
     "name": "stdout",
     "output_type": "stream",
     "text": [
      "Thought: Tôi cần tìm kiếm mô hình mới nhất của OpenAI. Tôi sẽ sử dụng công cụ tìm kiếm để tìm thông tin này.\n",
      "Action: search_advanced: mô hình mới nhất của OpenAI\n",
      "PAUSE\n",
      "\n",
      " -- running search_advanced mô hình mới nhất của OpenAI\n",
      "Observation: {'title': 'OpenAI ra mắt GPT-4.5: Mô hình lớn nhất và am hiểu nhất từ trước đến ...', 'url': 'https://vatvostudio.vn/openai-ra-mat-gpt-4-5/', 'content': 'OpenAI vừa chính thức ra mắt GPT-4.5, mô hình ngôn ngữ AI mới nhất và lớn nhất của mình. Tuy được quảng bá là \"mô hình am hiểu nhất từ trước đến nay\", OpenAI cũng đồng thời cảnh báo GPT-4.5 không phải là một mô hình AI đột phá và hiệu năng có thể chưa sánh bằng các mô hình nghiên cứu nội bộ như o1 hay'}\n",
      "Answer: Theo kết quả tìm kiếm, OpenAI vừa ra mắt GPT-4.5, mô hình ngôn ngữ AI mới nhất và lớn nhất của họ.\n",
      "\n",
      "Answer: Answer: Theo kết quả tìm kiếm, OpenAI vừa ra mắt GPT-4.5, mô hình ngôn ngữ AI mới nhất và lớn nhất của họ.\n",
      "\n",
      "Thought: I should use search_advanced to find more details about GPT-4.5.\n",
      "Action: search_advanced: GPT-4.5 details\n",
      "PAUSE\n",
      "\n",
      " -- running search_advanced GPT-4.5 details\n",
      "Observation: {'title': 'GPT-4.5 explained: Everything you need to know - TechTarget', 'url': 'https://www.techtarget.com/WhatIs/feature/GPT-45-explained-Everything-you-need-to-know', 'content': \"GPT-4.5, OpenAI's latest model, enhances natural conversation and emotional intelligence. GPT-4.5 is a shift from OpenAI's o1 and o3 models, which focus on reasoning capabilities. At the time of its initial research preview release on Feb. 27, 2025, it was the most advanced GPT class model in OpenAI's portfolio, exceeding the capabilities of models including GPT-4o, GPT-4 and prior models. Unlike reasoning-focused models such as o3 and DeepSeek R1, which use chain-of-thought processing to reason through complex problems methodically, GPT-4.5 responds based on its training data and pattern recognition capabilities. OpenAI's GPT-4.5 offers many advanced capabilities that improve upon previous models. Though costly, developers and organizations looking to integrate GPT-4.5 into their applications can access the model through OpenAI's API.\"}\n",
      "Answer: GPT-4.5 là mô hình mới nhất của OpenAI, được ra mắt vào ngày 27 tháng 2 năm 2025. Nó tập trung vào việc tăng cường khả năng trò chuyện tự nhiên và trí tuệ cảm xúc, khác với các mô hình trước đó tập trung vào khả năng suy luận. GPT-4.5 phản hồi dựa trên dữ liệu huấn luyện và khả năng nhận dạng mẫu. Các nhà phát triển và tổ chức có thể truy cập mô hình này thông qua API của OpenAI.\n",
      "\n",
      "Answer: Answer: GPT-4.5 là mô hình mới nhất của OpenAI, được ra mắt vào ngày 27 tháng 2 năm 2025. Nó tập trung vào việc tăng cường khả năng trò chuyện tự nhiên và trí tuệ cảm xúc, khác với các mô hình trước đó tập trung vào khả năng suy luận. GPT-4.5 phản hồi dựa trên dữ liệu huấn luyện và khả năng nhận dạng mẫu. Các nhà phát triển và tổ chức có thể truy cập mô hình này thông qua API của OpenAI.\n",
      "\n"
     ]
    }
   ],
   "source": [
    "def chat_interface_handler(message, history):\n",
    "    \"\"\"\n",
    "    Hàm xử lý tin nhắn cho ChatInterface\n",
    "    \n",
    "    Args:\n",
    "        message (str): Tin nhắn từ người dùng\n",
    "        history (list): Lịch sử chat [(user_message, bot_message), ...]\n",
    "    \n",
    "    Returns:\n",
    "        str: Phản hồi của bot\n",
    "    \"\"\"\n",
    "    # Chuyển đổi định dạng lịch sử chat từ Gradio sang định dạng của ChatBot_ReAct\n",
    "    bot_messages = []\n",
    "    for user_msg, bot_msg in history:\n",
    "        bot_messages.append({\"role\": \"user\", \"content\": user_msg})\n",
    "        bot_messages.append({\"role\": \"assistant\", \"content\": bot_msg})\n",
    "    \n",
    "    try:\n",
    "        # Gọi hàm query với tin nhắn hiện tại và lịch sử\n",
    "        answer = query(message, bot_messages)\n",
    "        return answer\n",
    "    except Exception as e:\n",
    "        # Xử lý lỗi\n",
    "        return f\"Error: {str(e)}\"\n",
    "\n",
    "# Tạo giao diện ChatInterface\n",
    "demo = gr.ChatInterface(\n",
    "    fn=chat_interface_handler,\n",
    "    title=\"ReAct Agent\",\n",
    "    description=\"Đặt câu hỏi và Chatbot sẽ sử dụng các công cụ để tìm câu trả lời.\",\n",
    "    examples=[\"Lionel Messi là ai?\", \"Tìm hiểu về AI\", \"50 USD bằng bao nhiêu VND?\"],\n",
    "    theme=\"ocean\",\n",
    ")\n",
    "\n",
    "# Khởi chạy ứng dụng\n",
    "if __name__ == \"__main__\":\n",
    "    demo.launch(share=False)\n",
    "    "
   ]
  },
  {
   "cell_type": "code",
   "execution_count": 50,
   "metadata": {},
   "outputs": [
    {
     "name": "stdout",
     "output_type": "stream",
     "text": [
      "Closing server running on port: 7870\n"
     ]
    }
   ],
   "source": [
    "demo.close() # Đóng ứng dụng"
   ]
  }
 ],
 "metadata": {
  "kernelspec": {
   "display_name": "Python 3",
   "language": "python",
   "name": "python3"
  },
  "language_info": {
   "codemirror_mode": {
    "name": "ipython",
    "version": 3
   },
   "file_extension": ".py",
   "mimetype": "text/x-python",
   "name": "python",
   "nbconvert_exporter": "python",
   "pygments_lexer": "ipython3",
   "version": "3.10.11"
  }
 },
 "nbformat": 4,
 "nbformat_minor": 2
}
